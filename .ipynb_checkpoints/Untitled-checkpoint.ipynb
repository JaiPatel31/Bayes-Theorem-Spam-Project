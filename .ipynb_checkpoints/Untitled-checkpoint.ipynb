{
 "cells": [
  {
   "cell_type": "code",
   "execution_count": null,
   "id": "b82ce7d9-0d0a-45cf-9fb1-9f58a96568a4",
   "metadata": {},
   "outputs": [],
   "source": [
    "# Import essential libraries\n",
    "import pandas as pd\n",
    "import numpy as np\n",
    "from sklearn.feature_extraction.text import CountVectorizer\n",
    "from sklearn.naive_bayes import MultinomialNB\n",
    "from sklearn.model_selection import train_test_split\n",
    "from sklearn.metrics import accuracy_score, classification_report\n",
    "\n",
    "# Load dataset\n",
    "try:\n",
    "    df = pd.read_csv('spam.csv', encoding='latin-1')  # For real dataset\n",
    "    df = df[['v1', 'v2']].rename(columns={'v1':'label', 'v2':'text'})\n",
    "except:\n",
    "    # Fallback to test data\n",
    "    test_data = {\n",
    "        \"text\": [\n",
    "            \"WINNER!! Claim your free prize now!\",\n",
    "            \"Meeting at 3pm in conference room\",\n",
    "            \"URGENT! Your account needs verification\",\n",
    "            \"Hi John, attached is the report\",\n",
    "            \"Congratulations! You won a gift card\"\n",
    "        ],\n",
    "        \"label\": [\"spam\", \"ham\", \"spam\", \"ham\", \"spam\"]\n",
    "    }\n",
    "    df = pd.DataFrame(test_data)\n",
    "\n",
    "# Display first 5 rows\n",
    "df.head()"
   ]
  }
 ],
 "metadata": {
  "kernelspec": {
   "display_name": "Python 3 (ipykernel)",
   "language": "python",
   "name": "python3"
  },
  "language_info": {
   "codemirror_mode": {
    "name": "ipython",
    "version": 3
   },
   "file_extension": ".py",
   "mimetype": "text/x-python",
   "name": "python",
   "nbconvert_exporter": "python",
   "pygments_lexer": "ipython3",
   "version": "3.12.10"
  }
 },
 "nbformat": 4,
 "nbformat_minor": 5
}
